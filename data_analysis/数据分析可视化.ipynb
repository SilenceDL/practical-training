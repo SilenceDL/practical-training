{
 "cells": [
  {
   "cell_type": "code",
   "execution_count": 186,
   "metadata": {},
   "outputs": [],
   "source": [
    "import pandas as pd"
   ]
  },
  {
   "cell_type": "code",
   "execution_count": 187,
   "metadata": {},
   "outputs": [
    {
     "name": "stdout",
     "output_type": "stream",
     "text": [
      "3625\n",
      "3625\n"
     ]
    },
    {
     "data": {
      "text/html": [
       "<div>\n",
       "<style scoped>\n",
       "    .dataframe tbody tr th:only-of-type {\n",
       "        vertical-align: middle;\n",
       "    }\n",
       "\n",
       "    .dataframe tbody tr th {\n",
       "        vertical-align: top;\n",
       "    }\n",
       "\n",
       "    .dataframe thead th {\n",
       "        text-align: right;\n",
       "    }\n",
       "</style>\n",
       "<table border=\"1\" class=\"dataframe\">\n",
       "  <thead>\n",
       "    <tr style=\"text-align: right;\">\n",
       "      <th></th>\n",
       "      <th>id</th>\n",
       "      <th>Title</th>\n",
       "      <th>Company</th>\n",
       "      <th>Salary</th>\n",
       "      <th>Location</th>\n",
       "      <th>date</th>\n",
       "      <th>Education</th>\n",
       "      <th>Experience</th>\n",
       "      <th>DataSource</th>\n",
       "    </tr>\n",
       "  </thead>\n",
       "  <tbody>\n",
       "    <tr>\n",
       "      <th>0</th>\n",
       "      <td>1</td>\n",
       "      <td>美团-产品销售（保定）</td>\n",
       "      <td>美团</td>\n",
       "      <td>0.8-1万/月</td>\n",
       "      <td>保定</td>\n",
       "      <td>2020-11-08</td>\n",
       "      <td>学历要求：大专</td>\n",
       "      <td>工作经验：1年</td>\n",
       "      <td>51Job</td>\n",
       "    </tr>\n",
       "    <tr>\n",
       "      <th>1</th>\n",
       "      <td>2</td>\n",
       "      <td>销售业务员（保定）</td>\n",
       "      <td>北京燕京啤酒股份有限公司</td>\n",
       "      <td>6-8千/月</td>\n",
       "      <td>保定</td>\n",
       "      <td>2020-11-08</td>\n",
       "      <td>学历要求：大专</td>\n",
       "      <td>工作经验：1年</td>\n",
       "      <td>51Job</td>\n",
       "    </tr>\n",
       "    <tr>\n",
       "      <th>2</th>\n",
       "      <td>3</td>\n",
       "      <td>基层处方药招商--河北</td>\n",
       "      <td>江苏柯菲平医药股份有限公司</td>\n",
       "      <td>1-1.5万/月</td>\n",
       "      <td>保定</td>\n",
       "      <td>2020-11-05</td>\n",
       "      <td>学历要求：大专</td>\n",
       "      <td>工作经验：1年</td>\n",
       "      <td>51Job</td>\n",
       "    </tr>\n",
       "    <tr>\n",
       "      <th>3</th>\n",
       "      <td>4</td>\n",
       "      <td>高碑店办事处业务代表</td>\n",
       "      <td>红牛公司河北分公司</td>\n",
       "      <td>4-6千/月</td>\n",
       "      <td>保定</td>\n",
       "      <td>2020-11-06</td>\n",
       "      <td>学历要求：大专</td>\n",
       "      <td>工作经验：1年</td>\n",
       "      <td>51Job</td>\n",
       "    </tr>\n",
       "    <tr>\n",
       "      <th>4</th>\n",
       "      <td>5</td>\n",
       "      <td>服务销售工程师</td>\n",
       "      <td>上海开利空调销售服务（上海）有限公司</td>\n",
       "      <td>0.8-1万/月</td>\n",
       "      <td>保定</td>\n",
       "      <td>2020-11-05</td>\n",
       "      <td>学历要求：大专</td>\n",
       "      <td>工作经验：3-4年</td>\n",
       "      <td>51Job</td>\n",
       "    </tr>\n",
       "  </tbody>\n",
       "</table>\n",
       "</div>"
      ],
      "text/plain": [
       "   id        Title             Company    Salary Location        date  \\\n",
       "0   1  美团-产品销售（保定）                  美团  0.8-1万/月       保定  2020-11-08   \n",
       "1   2    销售业务员（保定）        北京燕京啤酒股份有限公司    6-8千/月       保定  2020-11-08   \n",
       "2   3  基层处方药招商--河北       江苏柯菲平医药股份有限公司  1-1.5万/月       保定  2020-11-05   \n",
       "3   4   高碑店办事处业务代表           红牛公司河北分公司    4-6千/月       保定  2020-11-06   \n",
       "4   5      服务销售工程师  上海开利空调销售服务（上海）有限公司  0.8-1万/月       保定  2020-11-05   \n",
       "\n",
       "  Education Experience DataSource  \n",
       "0   学历要求：大专    工作经验：1年      51Job  \n",
       "1   学历要求：大专    工作经验：1年      51Job  \n",
       "2   学历要求：大专    工作经验：1年      51Job  \n",
       "3   学历要求：大专    工作经验：1年      51Job  \n",
       "4   学历要求：大专  工作经验：3-4年      51Job  "
      ]
     },
     "execution_count": 187,
     "metadata": {},
     "output_type": "execute_result"
    }
   ],
   "source": [
    "jobs = pd.read_excel(\"51job.xls\")\n",
    "jobs.info\n",
    "print(len(jobs))\n",
    "#数据会出现空缺或其他杂乱情况，需要进行清洗才能够拿来使用。\n",
    "#清除NaN\n",
    "jobs.dropna(axis=0, how='any',inplace=True)\n",
    "print(len(jobs))\n",
    "jobs.head(5)"
   ]
  },
  {
   "cell_type": "code",
   "execution_count": 188,
   "metadata": {},
   "outputs": [
    {
     "name": "stdout",
     "output_type": "stream",
     "text": [
      "  Location    Salary Experience Education\n",
      "0       保定  0.8-1万/月    工作经验：1年   学历要求：大专\n",
      "1       保定    6-8千/月    工作经验：1年   学历要求：大专\n"
     ]
    }
   ],
   "source": [
    "#选取需要的特征\n",
    "jobs = jobs = jobs[['Location','Salary','Experience','Education']]\n",
    "\n",
    "print(jobs.head(2))"
   ]
  },
  {
   "cell_type": "code",
   "execution_count": 189,
   "metadata": {},
   "outputs": [
    {
     "name": "stdout",
     "output_type": "stream",
     "text": [
      "  Location    Salary Experience Education\n",
      "0       保定  0.8-1万/月         1年        大专\n",
      "1       保定    6-8千/月         1年        大专\n"
     ]
    }
   ],
   "source": [
    "#规整experience和education\n",
    "def format_two(exp):\n",
    "    s =exp.split(\"：\")\n",
    "    if len(s)!=1:       \n",
    "        return s[1].strip()\n",
    "    \n",
    "jobs['Experience'] = jobs['Experience'].apply(format_two)\n",
    "jobs['Education'] = jobs['Education'].apply(format_two)\n",
    "print(jobs.head(2))"
   ]
  },
  {
   "cell_type": "code",
   "execution_count": 190,
   "metadata": {},
   "outputs": [
    {
     "name": "stdout",
     "output_type": "stream",
     "text": [
      "  Location   Salary Experience Education\n",
      "0       保定  9000.00          1        大专\n",
      "1       保定  7000.00          1        大专\n"
     ]
    }
   ],
   "source": [
    "## 城市字符串处理函数\n",
    "def get_area(area):\n",
    "    if '-' in area:\n",
    "        area = area.split('-')\n",
    "        return area[0]\n",
    "    else:\n",
    "        return area\n",
    "        \n",
    "## 经验字符串处理函数           \n",
    "def get_exp(exp):\n",
    "    \n",
    "    ## 1年经验，2年经验，3-9年经验，无工作经验\n",
    "    if '-' in exp:\n",
    "        exp = exp.split('-')\n",
    "        return exp[0] \n",
    "    elif exp=='无需工作经验'or exp=='在校生/应届生':\n",
    "        return 0\n",
    "    else:\n",
    "        import re\n",
    "        return re.sub(\"\\D\",\"\",exp)\n",
    "\n",
    "## 工资字符串处理函数\n",
    "def get_wage(wage):\n",
    "    \n",
    "    ## 三种情况举例：1.5-2千/月,0.4-1.2万/月,12-35万/年\n",
    "    if wage.endswith('千/月'):\n",
    "        wage = wage.replace('千/月','')\n",
    "        wage = wage.split('-')\n",
    "        wage = '%.2f'%((float(wage[0])+float(wage[1]))*1000/2)\n",
    "        return wage\n",
    "    elif wage.endswith('万/月'):\n",
    "        wage = wage.replace('万/月','')\n",
    "        wage = wage.split('-')\n",
    "        wage = '%.2f'%((float(wage[0])+float(wage[1]))*10000/2)\n",
    "        return wage\n",
    "    elif wage.endswith('万/年'):\n",
    "        wage = wage.replace('万/年','')\n",
    "        wage = wage.split('-')\n",
    "        wage = '%.2f'%((float(wage[0])+float(wage[1]))*10000/(2*12))\n",
    "        return wage\n",
    "        \n",
    " ## 将上述各处理函数应用到对应列\n",
    "jobs['Location'] = jobs['Location'].apply(get_area)\n",
    "jobs['Experience'] = jobs['Experience'].apply(get_exp)\n",
    "jobs['Salary'] = jobs['Salary'].apply(get_wage)\n",
    "\n",
    "print(jobs.head(2))"
   ]
  },
  {
   "cell_type": "code",
   "execution_count": 191,
   "metadata": {},
   "outputs": [
    {
     "name": "stdout",
     "output_type": "stream",
     "text": [
      "3625\n"
     ]
    }
   ],
   "source": [
    "print(len(jobs))"
   ]
  },
  {
   "cell_type": "code",
   "execution_count": 192,
   "metadata": {},
   "outputs": [
    {
     "name": "stdout",
     "output_type": "stream",
     "text": [
      "3430\n",
      "  Location    Salary Experience Education\n",
      "0       保定   9000.00          1        大专\n",
      "1       保定   7000.00          1        大专\n",
      "2       保定  12500.00          1        大专\n",
      "3       保定   5000.00          1        大专\n",
      "4       保定   9000.00          3        大专\n"
     ]
    }
   ],
   "source": [
    "#再次清除NaN\n",
    "jobs.dropna(axis=0, how='any',inplace=True)\n",
    "print(len(jobs))\n",
    "print(jobs.head(5))"
   ]
  },
  {
   "cell_type": "code",
   "execution_count": 199,
   "metadata": {},
   "outputs": [
    {
     "name": "stdout",
     "output_type": "stream",
     "text": [
      "Location\n",
      "保定      2735\n",
      "异地招聘     695\n",
      "Name: Location, dtype: int64\n"
     ]
    },
    {
     "data": {
      "image/png": "[encoded data removed]",
      "text/plain": [
       "<Figure size 720x576 with 1 Axes>"
      ]
     },
     "metadata": {
      "needs_background": "light"
     },
     "output_type": "display_data"
    }
   ],
   "source": [
    "import matplotlib.pyplot as plt\n",
    "import seaborn as sns\n",
    "plt.rcParams['font.sans-serif'] = ['SimHei']  # 解决中文显示问题-设置字体为黑体\n",
    "plt.rcParams['axes.unicode_minus'] = False  # 解决保存图像是负号'-'显示为方块的问题\n",
    "\n",
    "city_count = jobs.groupby(['Location'])['Location'].count()\n",
    "print(city_count)\n",
    "city_count2 = city_count.sort_values(ascending=False)\n",
    "ax = plt.figure(figsize=(10, 8)).add_subplot(111)\n",
    "sns.barplot(city_count.index, city_count.values, alpha=0.8)\n",
    "ax.set_ylim([0, 3000])\n",
    "ax.set_xlabel('城市', fontsize=20)\n",
    "ax.set_ylabel('职位数量', fontsize=20)\n",
    "ax.set_title('不同城市基础岗位的需求量', size=24)\n",
    "for x, y in zip(range(5), city_count.values):\n",
    "    ax.text(x, y, '%d'%y, ha='center', va='bottom', fontsize=16, color='b')\n",
    "plt.show()"
   ]
  },
  {
   "cell_type": "code",
   "execution_count": 203,
   "metadata": {},
   "outputs": [
    {
     "data": {
      "image/png": "[encoded data removed]",
      "text/plain": [
       "<Figure size 720x432 with 1 Axes>"
      ]
     },
     "metadata": {
      "needs_background": "light"
     },
     "output_type": "display_data"
    }
   ],
   "source": [
    "ax2 = plt.figure(figsize=(10, 6)).add_subplot(111)\n",
    "sns.distplot(jobs['Salary'].astype(float), kde=False, bins=30)\n",
    "ax2.set_title('工资分布', fontsize=22)\n",
    "ax2.set_xlabel('工资（元/月）', fontsize=18)\n",
    "ax2.set_xticks(range(0, 100, 10000))\n",
    "plt.show()"
   ]
  },
  {
   "cell_type": "code",
   "execution_count": null,
   "metadata": {},
   "outputs": [],
   "source": []
  }
 ],
 "metadata": {
  "kernelspec": {
   "display_name": "Python 3",
   "language": "python",
   "name": "python3"
  },
  "language_info": {
   "codemirror_mode": {
    "name": "ipython",
    "version": 3
   },
   "file_extension": ".py",
   "mimetype": "text/x-python",
   "name": "python",
   "nbconvert_exporter": "python",
   "pygments_lexer": "ipython3",
   "version": "3.7.0"
  }
 },
 "nbformat": 4,
 "nbformat_minor": 2
}
